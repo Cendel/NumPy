{
 "cells": [
  {
   "cell_type": "markdown",
   "metadata": {},
   "source": [
    "np.arange() is a fundamental function in the NumPy library for numerical computing. It allows you to create an array with evenly spaced values within a specified range. Think of it as an enhanced version of Python’s built-in range() function, but with more flexibility and capabilities."
   ]
  },
  {
   "cell_type": "markdown",
   "metadata": {},
   "source": [
    "Basic Usage:\n",
    "\n",
    "The most common form of numpy.arange() takes three arguments: start, stop, and step.\n",
    "\n",
    "It returns an array with values ranging from start (inclusive) up to, but excluding the stop value, with a specified step between them.\n",
    "\n",
    "The resulting array is an ndarray (NumPy array)."
   ]
  },
  {
   "cell_type": "markdown",
   "metadata": {},
   "source": [
    "Syntax:\n",
    "\n",
    "numpy.arange([start,] stop [, step,] [, dtype=None])"
   ]
  },
  {
   "cell_type": "markdown",
   "metadata": {},
   "source": [
    "Parameters:\n",
    "\n",
    "\n",
    "start: (optional) Start of the interval. The default start value is 0.\n",
    "\n",
    "stop: End of the interval. The interval does not include this value.\n",
    "\n",
    "step: (optional) Spacing between values. Default step size is 1.\n",
    "\n",
    "dtype: (optional) The data type of the output array. If not specified, it’s inferred from other input arguments."
   ]
  },
  {
   "cell_type": "code",
   "execution_count": 6,
   "metadata": {},
   "outputs": [
    {
     "name": "stdout",
     "output_type": "stream",
     "text": [
      "[0 1 2 3 4 5 6 7 8 9]\n"
     ]
    }
   ],
   "source": [
    "# Generate integers from 0 to 9:\n",
    "\n",
    "import numpy as np\n",
    "arr1 = np.arange(10)\n",
    "\n",
    "print(arr1)"
   ]
  },
  {
   "cell_type": "code",
   "execution_count": 12,
   "metadata": {},
   "outputs": [
    {
     "name": "stdout",
     "output_type": "stream",
     "text": [
      "[ 5  6  7  8  9 10 11 12 13 14]\n"
     ]
    }
   ],
   "source": [
    "# Specify a start value:\n",
    "\n",
    "arr2 = np.arange(5, 15)\n",
    "\n",
    "print(arr2)"
   ]
  },
  {
   "cell_type": "code",
   "execution_count": 13,
   "metadata": {},
   "outputs": [
    {
     "name": "stdout",
     "output_type": "stream",
     "text": [
      "[ 0  2  4  6  8 10 12 14 16 18]\n"
     ]
    }
   ],
   "source": [
    "# Set a custom step:\n",
    "\n",
    "arr3 = np.arange(0, 20, 2)\n",
    "\n",
    "print(arr3)"
   ]
  },
  {
   "cell_type": "code",
   "execution_count": 14,
   "metadata": {},
   "outputs": [
    {
     "name": "stdout",
     "output_type": "stream",
     "text": [
      "[0.  0.1 0.2 0.3 0.4 0.5 0.6 0.7 0.8 0.9]\n"
     ]
    }
   ],
   "source": [
    "# Use a non-integer step:\n",
    "\n",
    "arr4 = np.arange(0, 1, 0.1)\n",
    "\n",
    "print(arr4)"
   ]
  },
  {
   "cell_type": "code",
   "execution_count": 15,
   "metadata": {},
   "outputs": [
    {
     "name": "stdout",
     "output_type": "stream",
     "text": [
      "[0. 1. 2. 3. 4.]\n"
     ]
    }
   ],
   "source": [
    "# Specify a data type:\n",
    "\n",
    "arr5 = np.arange(0, 5, dtype=float)\n",
    "\n",
    "print(arr5)"
   ]
  },
  {
   "cell_type": "markdown",
   "metadata": {},
   "source": [
    "Warnings:\n",
    "\n",
    "Be cautious when using non-integer steps. For precise spacing, consider using numpy.linspace.\n",
    "\n",
    "Precision loss can occur due to casting or floating point overflow, especially for large values."
   ]
  }
 ],
 "metadata": {
  "kernelspec": {
   "display_name": "Python 3",
   "language": "python",
   "name": "python3"
  },
  "language_info": {
   "codemirror_mode": {
    "name": "ipython",
    "version": 3
   },
   "file_extension": ".py",
   "mimetype": "text/x-python",
   "name": "python",
   "nbconvert_exporter": "python",
   "pygments_lexer": "ipython3",
   "version": "3.12.0"
  }
 },
 "nbformat": 4,
 "nbformat_minor": 2
}
